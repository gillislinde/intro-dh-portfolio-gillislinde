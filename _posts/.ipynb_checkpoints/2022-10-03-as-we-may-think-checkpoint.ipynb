{
 "cells": [
  {
   "cell_type": "markdown",
   "id": "58979f7d",
   "metadata": {},
   "source": [
    "# As We May Think by Vanneyar Bush"
   ]
  },
  {
   "cell_type": "markdown",
   "id": "950af46d",
   "metadata": {},
   "source": [
    "“As We May Think” is an essay in The Atlantic written by Vannevar Bush. It was published for the first time in 1945 at the height of World War II—right before the United States dropped the atomic bombs on Hiroshima and Nagasaki. \n",
    "\n",
    "The essay begins by talking about how war has been the focus and driver of intellectual and scientific progress, “For years inventions have extended man’s physical powers rather than the powers of this mind.” It is clear that Vannevar Bush is concerned that such inventions like the atomic bomb and other creations of destruction are at the forefront of scientific work. Vannevar uses this idea to set up the rest of his paper where he describes a different focus of intellectual energy—one of creation, not destruction. In particular, Vannevar details the need for what he describes as a Memex, a repository like machine to make knowledge more accessible and spark a new age of intellectualism. “Instruments are at hand which, if properly developed, will give man access to and command over the inherit knowledge of the ages. The perfection of these pacific instruments should the first object of our scientists as they emerge from their war work.” By making information accessible to more people and more efficiently this leaves more room for expansion of ideas, rather than wasting time catching up to what someone has discovered before. Vannevar said it very well, by creating better records and access, “knowledge volves and endures throughout the life of a race rather than that of an individual.”\n",
    "\n",
    "I found it very fascinating in how accurate Vannevar was in his descriptions and ultimately guesses in what record keeping will look like in the future. Simple things such as talk to text record keeping was spot on, but even more impressive was his description of the “Memex.” The way he described the need for a better search method in libraries or collections based on connections instead of simply using alphabetical order or dates seems to be very similar to what Google uses for the rank-based search—linear algebra to rank pages based on association. \n",
    "\n",
    "His work sems from the fact that “publication has been extended far beyond our present ability to make real use of the record.” Even today that still seems to be the case, we have more information than ever, but it is useless without the ability to take meaning from it.\n"
   ]
  }
 ],
 "metadata": {
  "kernelspec": {
   "display_name": "Python 3 (ipykernel)",
   "language": "python",
   "name": "python3"
  },
  "language_info": {
   "codemirror_mode": {
    "name": "ipython",
    "version": 3
   },
   "file_extension": ".py",
   "mimetype": "text/x-python",
   "name": "python",
   "nbconvert_exporter": "python",
   "pygments_lexer": "ipython3",
   "version": "3.9.12"
  }
 },
 "nbformat": 4,
 "nbformat_minor": 5
}
