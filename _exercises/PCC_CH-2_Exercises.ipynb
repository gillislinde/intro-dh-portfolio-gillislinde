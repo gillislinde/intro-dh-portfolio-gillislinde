{
 "cells": [
  {
   "cell_type": "markdown",
   "metadata": {},
   "source": [
    "# Python Crash Course Chapter 2 Exercises\n",
    "## 2-1 Simple Message\n",
    "Store a message in a variable, and then print that message"
   ]
  },
  {
   "cell_type": "code",
   "execution_count": 15,
   "metadata": {},
   "outputs": [
    {
     "name": "stdout",
     "output_type": "stream",
     "text": [
      "Hello World!\n"
     ]
    }
   ],
   "source": [
    "message = \"Hello World!\"\n",
    "print(message)"
   ]
  },
  {
   "cell_type": "markdown",
   "metadata": {},
   "source": [
    "## 2-1 Simple Messages\n",
    "Store a message in a variable, and print that message. Then change the value of your variable ot a new message and print the new message."
   ]
  },
  {
   "cell_type": "code",
   "execution_count": 16,
   "metadata": {},
   "outputs": [
    {
     "name": "stdout",
     "output_type": "stream",
     "text": [
      "Hi!\n"
     ]
    }
   ],
   "source": [
    "message = \"Hi!\"\n",
    "print(message)"
   ]
  },
  {
   "cell_type": "code",
   "execution_count": 17,
   "metadata": {},
   "outputs": [
    {
     "name": "stdout",
     "output_type": "stream",
     "text": [
      "Hello!\n"
     ]
    }
   ],
   "source": [
    "message = \"Hello!\"\n",
    "print(message)"
   ]
  },
  {
   "cell_type": "markdown",
   "metadata": {},
   "source": [
    "## 2-3 Personal Message\n",
    "Store a person’s name in a variable, and print a message to that person. Your message should be simple, such as, “Hello Eric, would you like to learn some Python today?”"
   ]
  },
  {
   "cell_type": "code",
   "execution_count": 21,
   "metadata": {},
   "outputs": [
    {
     "name": "stdout",
     "output_type": "stream",
     "text": [
      "Hello Wade, would you like to learn some Python today?\n"
     ]
    }
   ],
   "source": [
    "persons_name = \"Wade\"\n",
    "message = \"Hello \" + persons_name + \", would you like to learn some Python today?\"\n",
    "print(message)"
   ]
  },
  {
   "cell_type": "markdown",
   "metadata": {},
   "source": [
    "## 2-4 Name Cases\n",
    "Store a person’s name in a variable, and then print that person’s name in lowercase, uppercase, and titlecase."
   ]
  },
  {
   "cell_type": "code",
   "execution_count": 23,
   "metadata": {},
   "outputs": [
    {
     "name": "stdout",
     "output_type": "stream",
     "text": [
      "wade perry\n",
      "WADE PERRY\n",
      "Wade Perry\n"
     ]
    }
   ],
   "source": [
    "persons_name = \"Wade Perry\"\n",
    "print(persons_name.lower())\n",
    "print(persons_name.upper())\n",
    "print(persons_name.title())\n"
   ]
  },
  {
   "cell_type": "markdown",
   "metadata": {},
   "source": [
    "## 2-5 Famous Quote\n",
    "Find a quote from a famous person you admire. Print the quote and the name of its author. "
   ]
  },
  {
   "cell_type": "code",
   "execution_count": 25,
   "metadata": {},
   "outputs": [
    {
     "name": "stdout",
     "output_type": "stream",
     "text": [
      "Nelson Mandela once said, \"It always seems impossible until it is done.\"\n"
     ]
    }
   ],
   "source": [
    "quote = 'Nelson Mandela once said, \"It always seems impossible until it is done.\"'\n",
    "print(quote)"
   ]
  },
  {
   "cell_type": "markdown",
   "metadata": {},
   "source": [
    "## 2-6 Famous Quote 2\n",
    "Repeat Exercise 2-5, but this time store the famous person’s name in a variable called famous_person. Then compose your message and store it in a new variable called message. Print your message."
   ]
  },
  {
   "cell_type": "code",
   "execution_count": 26,
   "metadata": {},
   "outputs": [
    {
     "name": "stdout",
     "output_type": "stream",
     "text": [
      "Nelson Mandela once said, \"It always seems impossible until it is done.\"\n"
     ]
    }
   ],
   "source": [
    "famous_person = \"Nelson Mandela\"\n",
    "message = famous_person + ' once said, \"It always seems impossible until it is done.\"'\n",
    "print(message)"
   ]
  },
  {
   "cell_type": "markdown",
   "metadata": {},
   "source": [
    "## 2-7 Stripping Names\n",
    "Store a person’s name, and include some whitespace characters at the beginning and end of the name. Make sure you use each character combination, \"\\t\" and \"\\n\", at least once."
   ]
  },
  {
   "cell_type": "code",
   "execution_count": 28,
   "metadata": {},
   "outputs": [
    {
     "name": "stdout",
     "output_type": "stream",
     "text": [
      " Wade Perry \n",
      "Wade Perry \n",
      " Wade Perry\n",
      "Wade Perry\n",
      "Wade Perry\n",
      "Wade Perry\n"
     ]
    }
   ],
   "source": [
    "name = \" Wade Perry \"\n",
    "print(name)\n",
    "print(name.lstrip())\n",
    "print(name.rstrip())\n",
    "print(name.strip())\n",
    "\n",
    "tabbed_name = \"\\tWade Perry\"\n",
    "print(tabbed_name.lstrip())\n",
    "new_line_name = \"\\nWade Perry\"\n",
    "print(new_line_name.lstrip())\n"
   ]
  },
  {
   "cell_type": "markdown",
   "metadata": {},
   "source": [
    "## 2-10 Adding Comments\n",
    "Choose two of the programs you’ve written, and add at least one comment to each. If you don’t have anything specific to write because your programs are too simple at this point, just add your name and the current date at the top of each program file. Then write one sentence describing what the program does."
   ]
  },
  {
   "cell_type": "code",
   "execution_count": 29,
   "metadata": {},
   "outputs": [
    {
     "name": "stdout",
     "output_type": "stream",
     "text": [
      "wade perry\n",
      "WADE PERRY\n",
      "Wade Perry\n",
      "Nelson Mandela once said, \"It always seems impossible until it is done.\"\n"
     ]
    }
   ],
   "source": [
    "persons_name = \"Wade Perry\"\n",
    "print(persons_name.lower()) # Prints in lower case\n",
    "print(persons_name.upper()) # Prints in upper case\n",
    "print(persons_name.title()) # Prints in title case\n",
    "\n",
    "famous_person = \"Nelson Mandela\" # Creates famous_person variable\n",
    "message = famous_person + ' once said, \"It always seems impossible until it is done.\"' #imbeds famous_person variable into message\n",
    "print(message) # Prints message"
   ]
  }
 ],
 "metadata": {
  "kernelspec": {
   "display_name": "Python 3.8.9 64-bit",
   "language": "python",
   "name": "python3"
  },
  "language_info": {
   "codemirror_mode": {
    "name": "ipython",
    "version": 3
   },
   "file_extension": ".py",
   "mimetype": "text/x-python",
   "name": "python",
   "nbconvert_exporter": "python",
   "pygments_lexer": "ipython3",
   "version": "3.8.9"
  },
  "orig_nbformat": 4,
  "vscode": {
   "interpreter": {
    "hash": "31f2aee4e71d21fbe5cf8b01ff0e069b9275f58929596ceb00d14d90e3e16cd6"
   }
  }
 },
 "nbformat": 4,
 "nbformat_minor": 2
}
