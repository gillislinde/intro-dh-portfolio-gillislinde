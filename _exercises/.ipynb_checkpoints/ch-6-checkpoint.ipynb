{
 "cells": [
  {
   "cell_type": "markdown",
   "id": "ddf580f7",
   "metadata": {},
   "source": [
    "# Python Crash Course Chapter 6"
   ]
  },
  {
   "cell_type": "markdown",
   "id": "360ef05a",
   "metadata": {},
   "source": [
    "## 6-1. Person\n",
    "Use a dictionary to store information about a person you know. Store their first name, last name, age, and the city in which they live. You should have keys such as first_name, last_name, age, and city. Print each piece of information stored in your dictionary."
   ]
  },
  {
   "cell_type": "code",
   "execution_count": 1,
   "id": "5524846b",
   "metadata": {},
   "outputs": [
    {
     "name": "stdout",
     "output_type": "stream",
     "text": [
      "wade\n",
      "perry\n",
      "21\n",
      "baltimore\n"
     ]
    }
   ],
   "source": [
    "person = {'first_name':'wade','last_name':'perry','age':21,'city':'baltimore'}\n",
    "\n",
    "print(person['first_name'])\n",
    "print(person['last_name'])\n",
    "print(person['age'])\n",
    "print(person['city'])"
   ]
  },
  {
   "cell_type": "markdown",
   "id": "afe16f72",
   "metadata": {},
   "source": [
    "## 6-2. Favorite Numbers\n",
    "Use a dictionary to store people’s favorite numbers. Think of five names, and use them as keys in your dictionary. Think of a favorite number for each person, and store each as a value in your dictionary. Print each person’s name and their favorite number. For even more fun, poll a few friends and get some actual data for your program."
   ]
  },
  {
   "cell_type": "code",
   "execution_count": 4,
   "id": "e364ea0d",
   "metadata": {},
   "outputs": [
    {
     "name": "stdout",
     "output_type": "stream",
     "text": [
      "person_1 1\n",
      "person_2 2\n",
      "person_3 3\n",
      "person_4 4\n",
      "person_5 5\n"
     ]
    }
   ],
   "source": [
    "favorite_numbers = {'person_1':1,'person_2':2, 'person_3':3,'person_4':4,'person_5':5}\n",
    "for key, value in favorite_numbers.items():\n",
    "    print(key, value)"
   ]
  },
  {
   "cell_type": "markdown",
   "id": "1029dadc",
   "metadata": {},
   "source": [
    "## 6-3. Glossary\n",
    "A Python dictionary can be used to model an actual dictionary. However, to avoid confusion, let’s call it a glossary.\n",
    "\n",
    "Think of five programming words you’ve learned about in the previous chapters. Use these words as the keys in your glossary, and store their meanings as values.\n",
    "Print each word and its meaning as neatly formatted output. You might print the word followed by a colon and then its meaning, or print the word on one line and then print its meaning indented on a second line. Use the newline character (\\n) to insert a blank line between each word-meaning pair in your output."
   ]
  },
  {
   "cell_type": "code",
   "execution_count": 10,
   "id": "a0a703fd",
   "metadata": {},
   "outputs": [
    {
     "name": "stdout",
     "output_type": "stream",
     "text": [
      "and : boolean operator that checks the condition of two operands\n",
      "not : boolean operator that reverses the condition of the operand\n",
      "elif : a conditional execution statement following and if that is short for else-if\n",
      "print : will print/export argument\n",
      "string : a sequence of characters treated as text\n"
     ]
    }
   ],
   "source": [
    "definitions = {'and':'boolean operator that checks the condition of two operands','not':'boolean operator that reverses the condition of the operand','elif':'a conditional execution statement following and if that is short for else-if','print':'will print/export argument',\"string\":\"a sequence of characters treated as text\"}\n",
    "for key, value in definitions.items():\n",
    "    print(f\"{key} : {value}\")"
   ]
  },
  {
   "cell_type": "markdown",
   "id": "f576a133",
   "metadata": {},
   "source": [
    "## 6-4. Glossary 2\n",
    "Now that you know how to loop through a dictionary, clean up the code from Exercise 6-3 (page 99) by replacing your series of print() calls with a loop that runs through the dictionary’s keys and values. When you’re sure that your loop works, add five more Python terms to your glossary. When you run your program again, these new words and meanings should automatically be included in the output."
   ]
  },
  {
   "cell_type": "code",
   "execution_count": 12,
   "id": "939a1b19",
   "metadata": {},
   "outputs": [
    {
     "name": "stdout",
     "output_type": "stream",
     "text": [
      "and : boolean operator that checks the condition of two operands\n",
      "not : boolean operator that reverses the condition of the operand\n",
      "elif : a conditional execution statement following and if that is short for else-if\n",
      "print : will print/export argument\n",
      "string : a sequence of characters treated as text\n"
     ]
    }
   ],
   "source": [
    "## already used for loop\n",
    "\n",
    "definitions = {'and':'boolean operator that checks the condition of two operands','not':'boolean operator that reverses the condition of the operand','elif':'a conditional execution statement following and if that is short for else-if','print':'will print/export argument',\"string\":\"a sequence of characters treated as text\"}\n",
    "for key, value in definitions.items():\n",
    "    print(f\"{key} : {value}\")"
   ]
  },
  {
   "cell_type": "code",
   "execution_count": 14,
   "id": "9917aa6a",
   "metadata": {},
   "outputs": [
    {
     "name": "stdout",
     "output_type": "stream",
     "text": [
      "and : boolean operator that checks the condition of two operands\n",
      "not : boolean operator that reverses the condition of the operand\n",
      "elif : a conditional execution statement following and if that is short for else-if\n",
      "print : will print/export argument\n",
      "string : a sequence of characters treated as text\n",
      "is : compares the value/identity of two objects\n",
      "for : iterate through and object, often lists\n",
      "true : boolean true\n",
      "false : boolean false\n",
      "floats : decimal numbers\n"
     ]
    }
   ],
   "source": [
    "definitions = {'and':'boolean operator that checks the condition of two operands','not':'boolean operator that reverses the condition of the operand','elif':'a conditional execution statement following and if that is short for else-if','print':'will print/export argument','string':'a sequence of characters treated as text','is':'compares the value/identity of two objects','for':'iterate through and object, often lists','true':'boolean true','false':'boolean false','floats':'decimal numbers'}\n",
    "for key, value in definitions.items():\n",
    "    print(f\"{key} : {value}\")"
   ]
  },
  {
   "cell_type": "markdown",
   "id": "fc837522",
   "metadata": {},
   "source": [
    "## 6-5. Rivers\n",
    "Make a dictionary containing three major rivers and the country each river runs through. One key-value pair might be 'nile': 'egypt'.\n",
    "\n",
    "Use a loop to print a sentence about each river, such as The Nile runs through Egypt.\n",
    "Use a loop to print the name of each river included in the dictionary.\n",
    "Use a loop to print the name of each country included in the dictionary."
   ]
  },
  {
   "cell_type": "code",
   "execution_count": 25,
   "id": "455f2fa8",
   "metadata": {},
   "outputs": [
    {
     "name": "stdout",
     "output_type": "stream",
     "text": [
      "The Nile is in the country Egypt!\n",
      "The Mystic River is in the country The United States Of America!\n",
      "The Congo is in the country Congo!\n"
     ]
    }
   ],
   "source": [
    "rivers = {'nile':'egypt','mystic river':'the united states of america','congo':'congo'}\n",
    "for key, value in rivers.items():\n",
    "    print(f\"The {key.title()} is in the country {value.title()}!\")"
   ]
  },
  {
   "cell_type": "markdown",
   "id": "9ad94c4a",
   "metadata": {},
   "source": [
    "## 6-7. People\n",
    "Start with the program you wrote for Exercise 6-1 (page 99). Make two new dictionaries representing different people, and store all three \n",
    "dictionaries in a list called people. Loop through your list of people. As you loop through the list, print everything you know about each person."
   ]
  },
  {
   "cell_type": "code",
   "execution_count": 52,
   "id": "3a14912d",
   "metadata": {},
   "outputs": [
    {
     "name": "stdout",
     "output_type": "stream",
     "text": [
      "Wade Perry is 21 years old and is from Baltimore!\n",
      "Allen Terman is 22 years old and is from Chicago!\n",
      "Hayden Virtue is 22 years old and is from Hawaii!\n"
     ]
    }
   ],
   "source": [
    "\n",
    "\n",
    "person_1 = {'first_name':'wade','last_name':'perry','age':21,'city':'baltimore'}\n",
    "person_2 = {'first_name':'allen','last_name':'terman','age':22,'city':'chicago'}\n",
    "person_3 = {'first_name':'hayden','last_name':'virtue','age':22,'city':'hawaii'}\n",
    "\n",
    "people = [person_1,person_2,person_3]\n",
    "\n",
    "\n",
    "for person in people:\n",
    "    print(f\"{person['first_name'].title()} {person['last_name'].title()} is {person['age']} years old and is from {person['city'].title()}!\")\n",
    "\n"
   ]
  },
  {
   "cell_type": "markdown",
   "id": "a1f1d854",
   "metadata": {},
   "source": [
    "## 6-8. Pets\n",
    "Make several dictionaries, where each dictionary represents a different pet. In each dictionary, include the kind of animal and the owner’s name. Store these dictionaries in a list called pets. Next, loop through your list and as you do, print everything you know about each pet."
   ]
  },
  {
   "cell_type": "code",
   "execution_count": 54,
   "id": "909b998c",
   "metadata": {},
   "outputs": [
    {
     "name": "stdout",
     "output_type": "stream",
     "text": [
      "Wade owns a cat!\n",
      "Allen owns a dog!\n",
      "Hayden owns a fish!\n"
     ]
    }
   ],
   "source": [
    "pet_1 = {'animal':'cat','owners_name':'wade'}\n",
    "pet_2 = {'animal':'dog','owners_name':'allen'}\n",
    "pet_3 = {'animal':'fish','owners_name':'hayden'}\n",
    "\n",
    "pets = [pet_1,pet_2,pet_3]\n",
    "\n",
    "\n",
    "for pet in pets:\n",
    "    print(f\"{pet['owners_name'].title()} owns a {pet['animal']}!\")\n",
    "\n"
   ]
  },
  {
   "cell_type": "markdown",
   "id": "a34d9fbb",
   "metadata": {},
   "source": [
    "## 6-9. Favorite Places\n",
    "Make a dictionary called favorite_places. Think of three names to use as keys in the dictionary, and store one to three favorite places for each person. To make this exercise a bit more interesting, ask some friends to name a few of their favorite places. Loop through the dictionary, and print each person’s name and their favorite places."
   ]
  },
  {
   "cell_type": "code",
   "execution_count": 58,
   "id": "77c138ae",
   "metadata": {},
   "outputs": [
    {
     "name": "stdout",
     "output_type": "stream",
     "text": [
      "Wade's favorite place is Trenton!\n",
      "Allen's favorite place is Bed!\n",
      "Hayden's favorite place is Island!\n"
     ]
    }
   ],
   "source": [
    "favorite_places = {'wade':'trenton','allen':'bed','hayden':'island'}\n",
    "\n",
    "for key, value in favorite_places.items():\n",
    "    print(f\"{key.title()}'s favorite place is {value.title()}!\")"
   ]
  },
  {
   "cell_type": "markdown",
   "id": "128c8b7c",
   "metadata": {},
   "source": [
    "## 6-11. Cities\n",
    "Make a dictionary called cities. Use the names of three cities as keys in your dictionary. Create a dictionary of information about each city and include the country that the city is in, its approximate population, and one fact about that city. The keys for each city’s dictionary should be something like country, population, and fact. Print the name of each city and all of the information you have stored about it."
   ]
  },
  {
   "cell_type": "code",
   "execution_count": 15,
   "id": "d8edae39",
   "metadata": {},
   "outputs": [
    {
     "name": "stdout",
     "output_type": "stream",
     "text": [
      "\n",
      "Los Angeles is in The United States of America.\n",
      "It has a population of about 3898747.\n",
      "LA is the only North American city to host the Olympics twice.\n",
      "\n",
      "Boston is in The United States of America.\n",
      "It has a population of about 675647.\n",
      "Boston is home to America's oldest populic park, the Boston Common.\n",
      "\n",
      "Chicago is in The United States of America.\n",
      "It has a population of about 2746388.\n",
      "Chicago's nickname is The Windy City.\n"
     ]
    }
   ],
   "source": [
    "cities = {\n",
    "    'Los Angeles': {\n",
    "        'country': 'The United States of America',\n",
    "        'population':3898747,\n",
    "        'fact':'LA is the only North American city to host the Olympics twice.'\n",
    "        },\n",
    "    'Boston': {\n",
    "        'country': 'The United States of America',\n",
    "        'population':675647,\n",
    "        'fact':\"Boston is home to America's oldest populic park, the Boston Common.\"\n",
    "        },\n",
    "    'Chicago': {\n",
    "        'country': 'The United States of America',\n",
    "        'population':2746388,\n",
    "        'fact':\"Chicago's nickname is The Windy City.\"\n",
    "        }\n",
    "    }\n",
    "    \n",
    "\n",
    "for city, city_info in cities.items():\n",
    "    country = city_info['country']\n",
    "    population = city_info['population']\n",
    "    fact = city_info['fact']\n",
    "    print(\"\\n\" + city.title() + \" is in \" + country + \".\")\n",
    "    print(\"It has a population of about \" + str(population) + \".\")\n",
    "    print(fact)"
   ]
  },
  {
   "cell_type": "code",
   "execution_count": null,
   "id": "6a37c239",
   "metadata": {},
   "outputs": [],
   "source": []
  }
 ],
 "metadata": {
  "kernelspec": {
   "display_name": "Python 3 (ipykernel)",
   "language": "python",
   "name": "python3"
  },
  "language_info": {
   "codemirror_mode": {
    "name": "ipython",
    "version": 3
   },
   "file_extension": ".py",
   "mimetype": "text/x-python",
   "name": "python",
   "nbconvert_exporter": "python",
   "pygments_lexer": "ipython3",
   "version": "3.9.12"
  }
 },
 "nbformat": 4,
 "nbformat_minor": 5
}
