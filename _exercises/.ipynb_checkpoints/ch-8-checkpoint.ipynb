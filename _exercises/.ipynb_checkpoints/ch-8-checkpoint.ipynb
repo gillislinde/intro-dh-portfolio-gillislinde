{
 "cells": [
  {
   "cell_type": "markdown",
   "id": "ddf580f7",
   "metadata": {},
   "source": [
    "# Python Crash Course Chapter 8"
   ]
  },
  {
   "cell_type": "markdown",
   "id": "360ef05a",
   "metadata": {},
   "source": [
    "## 8-1. Message\n",
    "Write a function called display_message() that prints one sentence telling everyone what you are learning about in this chapter. Call the function, and make sure the message displays correctly."
   ]
  },
  {
   "cell_type": "code",
   "execution_count": 2,
   "id": "5524846b",
   "metadata": {},
   "outputs": [
    {
     "name": "stdout",
     "output_type": "stream",
     "text": [
      "Chapter 8 is about functions.\n"
     ]
    }
   ],
   "source": [
    "def display_message():\n",
    "    print(\"Chapter 8 is about functions.\")\n",
    "    \n",
    "display_message()"
   ]
  },
  {
   "cell_type": "markdown",
   "id": "afe16f72",
   "metadata": {},
   "source": [
    "## 8-2. Favorite Book\n",
    "Write a function called favorite_book() that accepts one parameter, title. The function should print a message, such as One of my favorite books is Alice in Wonderland. Call the function, making sure to include a book title as an argument in the function call."
   ]
  },
  {
   "cell_type": "code",
   "execution_count": 6,
   "id": "e364ea0d",
   "metadata": {},
   "outputs": [
    {
     "name": "stdout",
     "output_type": "stream",
     "text": [
      "One of my favorite books is Harry Potter.\n"
     ]
    }
   ],
   "source": [
    "def favorite_book(book):\n",
    "    print(f\"One of my favorite books is {book}.\")\n",
    "    \n",
    "favorite_book(\"Harry Potter\")"
   ]
  },
  {
   "cell_type": "markdown",
   "id": "1029dadc",
   "metadata": {},
   "source": [
    "## 8-3. T-Shirt\n",
    "Write a function called make_shirt() that accepts a size and the text of a message that should be printed on the shirt. The function should print a sentence summarizing the size of the shirt and the message printed on it.\n",
    "\n",
    "Call the function once using positional arguments to make a shirt. Call the function a second time using keyword arguments."
   ]
  },
  {
   "cell_type": "code",
   "execution_count": 3,
   "id": "a0a703fd",
   "metadata": {},
   "outputs": [
    {
     "name": "stdout",
     "output_type": "stream",
     "text": [
      "I'm going to make a large t-shirt.\n",
      "It will say, \"Hi!\"\n",
      "I'm going to make a small t-shirt.\n",
      "It will say, \"Hello!\"\n"
     ]
    }
   ],
   "source": [
    "def make_shirt(size, message):\n",
    "    print(\"I'm going to make a \" + size + \" t-shirt.\")\n",
    "    print('It will say, \"' + message + '\"')\n",
    "    \n",
    "make_shirt(\"large\", \"Hi!\")\n",
    "make_shirt(message=\"Hello!\", size=\"small\")"
   ]
  },
  {
   "cell_type": "markdown",
   "id": "f576a133",
   "metadata": {},
   "source": [
    "## 8-5. Cities\n",
    "Write a function called describe_city() that accepts the name of a city and its country. The function should print a simple sentence, such as Reykjavik is in Iceland. Give the parameter for the country a default value. Call your function for three different cities, at least one of which is not in the default country."
   ]
  },
  {
   "cell_type": "code",
   "execution_count": 4,
   "id": "939a1b19",
   "metadata": {},
   "outputs": [
    {
     "name": "stdout",
     "output_type": "stream",
     "text": [
      "Stockholm is in Sweden.\n",
      "Reykjavik is in Iceland.\n",
      "Uppsala is in Sweden.\n"
     ]
    }
   ],
   "source": [
    "def describe_city(city, country='sweden'):\n",
    "    msg = city.title() + \" is in \" + country.title() + \".\"\n",
    "    print(msg)\n",
    "\n",
    "describe_city('stockholm')\n",
    "describe_city('reykjavik', 'iceland')\n",
    "describe_city('uppsala')"
   ]
  },
  {
   "cell_type": "markdown",
   "id": "fc837522",
   "metadata": {},
   "source": [
    "## 8-6. City Names\n",
    "Write a function called city_country() that takes in the name of a city and its country. The function should return a string formatted like this:\n",
    "\n",
    "\"Santiago, Chile\"\n",
    "\n",
    "Call your function with at least three city-country pairs, and print the values that are returned."
   ]
  },
  {
   "cell_type": "code",
   "execution_count": 5,
   "id": "455f2fa8",
   "metadata": {},
   "outputs": [
    {
     "name": "stdout",
     "output_type": "stream",
     "text": [
      "Santiago, Chile\n",
      "Stockholm, Sweden\n",
      "London, England\n"
     ]
    }
   ],
   "source": [
    "def city_country(city, country):\n",
    "    return(city.title() + \", \" + country.title())\n",
    "\n",
    "city = city_country('santiago', 'chile')\n",
    "print(city)\n",
    "\n",
    "city = city_country('stockholm', 'sweden')\n",
    "print(city)\n",
    "\n",
    "city = city_country('london', 'england')\n",
    "print(city)"
   ]
  },
  {
   "cell_type": "markdown",
   "id": "9ad94c4a",
   "metadata": {},
   "source": [
    "## 8-7. Album\n",
    "Write a function called make_album() that builds a dictionary describing a music album. The function should take in an artist name and an album title, and it should return a dictionary containing these two pieces of information. Use the function to make three dictionaries representing different albums. Print each return value to show that the dictionaries are storing the album information correctly.\n",
    "\n",
    "Use None to add an optional parameter to make_album() that allows you to store the number of songs on an album. If the calling line includes a value for the number of songs, add that value to the album’s dictionary. Make at least one new function call that includes the number of songs on an album."
   ]
  },
  {
   "cell_type": "code",
   "execution_count": 7,
   "id": "3a14912d",
   "metadata": {},
   "outputs": [
    {
     "name": "stdout",
     "output_type": "stream",
     "text": [
      "{'artist': 'Zach Bryan', 'title': 'American Heartbreak'}\n",
      "{'artist': 'Kendrick Lamar', 'title': 'Damn.'}\n",
      "{'artist': 'Lil Baby', 'title': \"It'S Only Me\", 'tracks': 24}\n",
      "{'artist': 'Tory Lanez', 'title': 'Sorry 4 What', 'tracks': 20}\n"
     ]
    }
   ],
   "source": [
    "def make_album(artist, title, tracks=0):\n",
    "    album_dictionary = {\n",
    "        'artist': artist.title(),\n",
    "        'title': title.title(),\n",
    "        }\n",
    "    if tracks:\n",
    "        album_dictionary['tracks'] = tracks\n",
    "    return album_dictionary\n",
    "\n",
    "album = make_album('zach bryan', 'american heartbreak')\n",
    "print(album)\n",
    "\n",
    "album = make_album('kendrick lamar', 'damn.')\n",
    "print(album)\n",
    "\n",
    "album = make_album('lil baby', \"it's only me\", tracks=24)\n",
    "print(album)\n",
    "\n",
    "album = make_album('tory lanez', 'sorry 4 what', tracks=20)\n",
    "print(album)"
   ]
  }
 ],
 "metadata": {
  "kernelspec": {
   "display_name": "Python 3 (ipykernel)",
   "language": "python",
   "name": "python3"
  },
  "language_info": {
   "codemirror_mode": {
    "name": "ipython",
    "version": 3
   },
   "file_extension": ".py",
   "mimetype": "text/x-python",
   "name": "python",
   "nbconvert_exporter": "python",
   "pygments_lexer": "ipython3",
   "version": "3.9.12"
  }
 },
 "nbformat": 4,
 "nbformat_minor": 5
}
