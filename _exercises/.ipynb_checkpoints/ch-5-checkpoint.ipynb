{
 "cells": [
  {
   "cell_type": "markdown",
   "id": "ddf580f7",
   "metadata": {},
   "source": [
    "# Python Crash Course Chapter 5"
   ]
  },
  {
   "cell_type": "markdown",
   "id": "360ef05a",
   "metadata": {},
   "source": [
    "## 5-1. Conditional Tests:\n",
    "Write a series of conditional tests. Print a statement describing each test and your prediction for the results of each test. Your code should look something like this:\n",
    "\n",
    "car = 'subaru'\n",
    "print(\"Is car == 'subaru'? I predict True.\")\n",
    "print(car == 'subaru')\n",
    "\n",
    "print(\"\\nIs car == 'audi'? I predict False.\")\n",
    "print(car == 'audi')\n",
    "\n",
    "Look closely at your results, and make sure you understand why each line evaluates to True or False.\n",
    "Create at least ten tests. Have at least five tests evaluate to True and another five tests evaluate to False."
   ]
  },
  {
   "cell_type": "code",
   "execution_count": 15,
   "id": "5524846b",
   "metadata": {},
   "outputs": [
    {
     "name": "stdout",
     "output_type": "stream",
     "text": [
      "Is car == 'audi'? I predict True.\n",
      "True\n",
      "---\n",
      "Is car != 'audi'? I predict False.\n",
      "False\n",
      "---\n",
      "Is number_1 > number_2? I predict False.\n",
      "False\n",
      "---\n",
      "Is a > b? I predict False.\n",
      "False\n",
      "---\n",
      "Is a < b? I predict False.\n",
      "False\n",
      "---\n",
      "Is a != b? I predict False.\n",
      "False\n",
      "---\n",
      "Is a + b == 3? I predict False.\n",
      "False\n",
      "---\n",
      "Is a + b == 2? I predict True.\n",
      "True\n",
      "---\n",
      "Is a * b == 1? I predict True.\n",
      "True\n",
      "---\n",
      "Is a / b == 1? I predict True.\n",
      "True\n",
      "---\n",
      "Is a == b? I predict True.\n",
      "True\n",
      "---\n",
      "Is a < b? I predict True.\n",
      "True\n",
      "---\n"
     ]
    }
   ],
   "source": [
    "car = 'audi'\n",
    "print(\"Is car == 'audi'? I predict True.\")\n",
    "print(car == 'audi')\n",
    "\n",
    "print(\"---\")\n",
    "\n",
    "car = 'audi'\n",
    "print(\"Is car != 'audi'? I predict False.\")\n",
    "print(car != 'audi')\n",
    "\n",
    "print(\"---\")\n",
    "\n",
    "number_1 = \"1\"\n",
    "number_2 = \"10\"\n",
    "print(\"Is number_1 > number_2? I predict False.\")\n",
    "print(number_1 > number_2)\n",
    "\n",
    "print(\"---\")\n",
    "\n",
    "a = 1\n",
    "b = 1\n",
    "print(\"Is a > b? I predict False.\")\n",
    "print(a > b)\n",
    "\n",
    "print(\"---\")\n",
    "\n",
    "a = 1\n",
    "b = 1\n",
    "print(\"Is a < b? I predict False.\")\n",
    "print(a < b)\n",
    "\n",
    "print(\"---\")\n",
    "\n",
    "a = 1\n",
    "b = 1\n",
    "print(\"Is a != b? I predict False.\")\n",
    "print(a != b)\n",
    "\n",
    "print(\"---\")\n",
    "\n",
    "a = 1 \n",
    "b = 1\n",
    "print(\"Is a + b == 3? I predict False.\")\n",
    "print(a + b == 3)\n",
    "\n",
    "print(\"---\")\n",
    "\n",
    "a = 1 \n",
    "b = 1\n",
    "print(\"Is a + b == 2? I predict True.\")\n",
    "print(a + b == 2)\n",
    "\n",
    "print(\"---\")\n",
    "\n",
    "a = 1 \n",
    "b = 1\n",
    "print(\"Is a * b == 1? I predict True.\")\n",
    "print(a * b == 1)\n",
    "\n",
    "print(\"---\")\n",
    "\n",
    "a = 1 \n",
    "b = 1\n",
    "print(\"Is a / b == 1? I predict True.\")\n",
    "print(a / b == 1)\n",
    "\n",
    "print(\"---\")\n",
    "\n",
    "a = 1 \n",
    "b = 1\n",
    "print(\"Is a == b? I predict True.\")\n",
    "print(a == b)\n",
    "\n",
    "print(\"---\")\n",
    "\n",
    "a = 1 \n",
    "b = 10\n",
    "print(\"Is a < b? I predict True.\")\n",
    "print(a < b)\n",
    "\n",
    "print(\"---\")"
   ]
  },
  {
   "cell_type": "markdown",
   "id": "afe16f72",
   "metadata": {},
   "source": [
    "## 5-2. More Conditional Tests\n",
    "You don’t have to limit the number of tests you create to ten. If you want to try more comparisons, write more tests and add them to conditional_tests.py. Have at least one True and one False result for each of the following:\n",
    "\n",
    "Tests for equality and inequality with strings\n",
    "Tests using the lower() method\n",
    "Numerical tests involving equality and inequality, greater than and less than, greater than or equal to, and less than or equal to\n",
    "Tests using the and keyword and the or keyword\n",
    "Test whether an item is in a list\n",
    "Test whether an item is not in a list"
   ]
  },
  {
   "cell_type": "code",
   "execution_count": 36,
   "id": "e364ea0d",
   "metadata": {},
   "outputs": [
    {
     "name": "stdout",
     "output_type": "stream",
     "text": [
      "Is Porche == 'lame car'? I predict False\n",
      "False\n",
      "---\n",
      "Is porche.lower() == 'car'? I predict True.\n",
      "True\n",
      "---\n",
      "Is 1 + 1 == 2? I predict True.\n",
      "True\n",
      "---\n",
      "Is 1 > 1? I predict False.\n",
      "False\n",
      "---\n",
      "Is 1 < 1? I predict False.\n",
      "False\n",
      "---\n",
      "Is 1 <= 1? I predict True.\n",
      "True\n",
      "---\n",
      "Is 1 >= 1? I predict True.\n",
      "True\n",
      "---\n",
      "Is 1 > 1 and 1 > 2? I predict False.\n",
      "False\n",
      "---\n",
      "Is 1 > 1 or 1 > 2? I predict True.\n",
      "True\n",
      "---\n",
      "Is 1 in numbers? I predict True.\n",
      "True\n",
      "---\n",
      "Is 4 in numbers? I predict False.\n",
      "False\n"
     ]
    }
   ],
   "source": [
    "Porche = \"car\"\n",
    "print(\"Is Porche == 'lame car'? I predict False\")\n",
    "print(Porche == car)\n",
    "\n",
    "print(\"---\")\n",
    "\n",
    "Porche = \"Car\"\n",
    "print(\"Is porche.lower() == 'car'? I predict True.\")\n",
    "print(porche.lower() == 'car')\n",
    "\n",
    "print(\"---\")\n",
    "\n",
    "print(\"Is 1 + 1 == 2? I predict True.\")\n",
    "print(1 + 1 == 2)\n",
    "\n",
    "print(\"---\")\n",
    "\n",
    "print(\"Is 1 > 1? I predict False.\")\n",
    "print(1 > 1)\n",
    "\n",
    "print(\"---\")\n",
    "\n",
    "print(\"Is 1 < 1? I predict False.\")\n",
    "print(1 < 1)\n",
    "\n",
    "print(\"---\")\n",
    "\n",
    "print(\"Is 1 <= 1? I predict True.\")\n",
    "print(1 <= 1)\n",
    "\n",
    "print(\"---\")\n",
    "\n",
    "print(\"Is 1 >= 1? I predict True.\")\n",
    "print(1 >= 1)\n",
    "\n",
    "print(\"---\")\n",
    "\n",
    "print(\"Is 1 > 1 and 1 > 2? I predict False.\")\n",
    "print(1 > 1 and 1 < 2)\n",
    "\n",
    "print(\"---\")\n",
    "print(\"Is 1 > 1 or 1 > 2? I predict True.\")\n",
    "print(1 > 1 or 1 < 2)\n",
    "\n",
    "print(\"---\")\n",
    "\n",
    "numbers = [\"1\", \"2\", \"3\"]\n",
    "print(\"Is 1 in numbers? I predict True.\")\n",
    "print(\"1\" in numbers)\n",
    "\n",
    "print(\"---\")\n",
    "\n",
    "numbers = [\"1\", \"2\", \"3\"]\n",
    "print(\"Is 4 in numbers? I predict False.\")\n",
    "print(\"4\" in numbers)"
   ]
  },
  {
   "cell_type": "markdown",
   "id": "1029dadc",
   "metadata": {},
   "source": [
    "## 5-6. Stages of Life\n",
    "Write an if-elif-else chain that determines a person’s stage of life. Set a value for the variable age, and then:\n",
    "\n",
    "If the person is less than 2 years old, print a message that the person is a baby.\n",
    "If the person is at least 2 years old but less than 4, print a message that the person is a toddler.\n",
    "If the person is at least 4 years old but less than 13, print a message that the person is a kid.\n",
    "If the person is at least 13 years old but less than 20, print a message that the person is a teenager.\n",
    "If the person is at least 20 years old but less than 65, print a message that the person is an adult.\n",
    "If the person is age 65 or older, print a message that the person is an elder."
   ]
  },
  {
   "cell_type": "code",
   "execution_count": 39,
   "id": "a0a703fd",
   "metadata": {},
   "outputs": [
    {
     "name": "stdout",
     "output_type": "stream",
     "text": [
      "You are an adult.\n"
     ]
    }
   ],
   "source": [
    "age = 21\n",
    "if age < 2:\n",
    "    print(\"You are a baby.\")\n",
    "elif age >= 2 and age < 4:\n",
    "    print(\"You are a toddler.\")\n",
    "elif age >=4 and age < 13:\n",
    "    print(\"You are a kid.\")\n",
    "elif age >= 13 and age < 20:\n",
    "    print(\"You are a teenager.\")\n",
    "elif age >=20 and age < 65:\n",
    "    print(\"You are an adult.\")\n",
    "else:\n",
    "    print(\"You are an elder\")"
   ]
  },
  {
   "cell_type": "markdown",
   "id": "f576a133",
   "metadata": {},
   "source": [
    "## 5-7. Favorite Fruit\n",
    "Make a list of your favorite fruits, and then write a series of independent if statements that check for certain fruits in your list.\n",
    "\n",
    "Make a list of your three favorite fruits and call it favorite_fruits.\n",
    "Write five if statements. Each should check whether a certain kind of fruit is in your list. If the fruit is in your list, the if block should print a statement, such as You really like bananas!"
   ]
  },
  {
   "cell_type": "code",
   "execution_count": 41,
   "id": "939a1b19",
   "metadata": {},
   "outputs": [
    {
     "name": "stdout",
     "output_type": "stream",
     "text": [
      "I really like bananas!\n",
      "I really like strawberries!\n",
      "I really like mangos!\n"
     ]
    }
   ],
   "source": [
    "favorite_fruits = [\"banana\", \"strawberry\", \"mango\"]\n",
    "\n",
    "if \"banana\" in favorite_fruits:\n",
    "    print(\"I really like bananas!\")\n",
    "    \n",
    "if \"strawberry\" in favorite_fruits:\n",
    "    print(\"I really like strawberries!\")\n",
    "    \n",
    "if \"mango\" in favorite_fruits:\n",
    "    print(\"I really like mangos!\")\n",
    "    \n",
    "if \"pineapple\" in favorite_fruits:\n",
    "    print(\"I really like pineapples!\")\n",
    "    \n",
    "if \"watermelon\" in favorite_fruits:\n",
    "    print(\"I really like watermelons!\")"
   ]
  },
  {
   "cell_type": "markdown",
   "id": "fc837522",
   "metadata": {},
   "source": [
    "## 5-8. Hello Admin\n",
    "Make a list of five or more usernames, including the name 'admin'. Imagine you are writing code that will print a greeting to each user after they log in to a website. Loop through the list, and print a greeting to each user:\n",
    "\n",
    "If the username is 'admin', print a special greeting, such as Hello admin, would you like to see a status report?\n",
    "Otherwise, print a generic greeting, such as Hello Jaden, thank you for logging in again."
   ]
  },
  {
   "cell_type": "code",
   "execution_count": 42,
   "id": "455f2fa8",
   "metadata": {},
   "outputs": [
    {
     "name": "stdout",
     "output_type": "stream",
     "text": [
      "Hello admin, would you like to see a status report?\n",
      "Hello user1, thank you for logging in again.\n",
      "Hello user2, thank you for logging in again.\n",
      "Hello user3, thank you for logging in again.\n",
      "Hello user4, thank you for logging in again.\n"
     ]
    }
   ],
   "source": [
    "usernames = [\"admin\", \"user1\", \"user2\", \"user3\", \"user4\"]\n",
    "\n",
    "for username in usernames:\n",
    "    if username == 'admin':\n",
    "        print(f\"Hello {username}, would you like to see a status report?\")\n",
    "    else:\n",
    "        print(f\"Hello {username}, thank you for logging in again.\")"
   ]
  },
  {
   "cell_type": "markdown",
   "id": "9ad94c4a",
   "metadata": {},
   "source": [
    "## 5-9. No Users\n",
    "Add an if test to hello_admin.py to make sure the list of users is not empty.\n",
    "\n",
    "If the list is empty, print the message We need to find some users!\n",
    "Remove all of the usernames from your list, and make sure the correct message is printed."
   ]
  },
  {
   "cell_type": "code",
   "execution_count": 44,
   "id": "3a14912d",
   "metadata": {},
   "outputs": [
    {
     "name": "stdout",
     "output_type": "stream",
     "text": [
      "Hello admin, would you like to see a status report?\n",
      "Hello user1, thank you for logging in again.\n",
      "Hello user2, thank you for logging in again.\n",
      "Hello user3, thank you for logging in again.\n",
      "Hello user4, thank you for logging in again.\n",
      "---\n",
      "We need to find some users!\n"
     ]
    }
   ],
   "source": [
    "usernames = [\"admin\", \"user1\", \"user2\", \"user3\", \"user4\"]\n",
    "\n",
    "if usernames:\n",
    "    for username in usernames:\n",
    "        if username == 'admin':\n",
    "            print(f\"Hello {username}, would you like to see a status report?\")\n",
    "        else:\n",
    "            print(f\"Hello {username}, thank you for logging in again.\")\n",
    "else:\n",
    "    print(\"We need to find some users!\")\n",
    "    \n",
    "print(\"---\")\n",
    "    \n",
    "usernames = [\"admin\", \"user1\", \"user2\", \"user3\", \"user4\"]\n",
    "usernames.clear()\n",
    "\n",
    "if usernames:\n",
    "    for username in usernames:\n",
    "        if username == 'admin':\n",
    "            print(f\"Hello {username}, would you like to see a status report?\")\n",
    "        else:\n",
    "            print(f\"Hello {username}, thank you for logging in again.\")\n",
    "else:\n",
    "    print(\"We need to find some users!\")"
   ]
  },
  {
   "cell_type": "markdown",
   "id": "a1f1d854",
   "metadata": {},
   "source": [
    "## 5-10. Checking Usernames\n",
    "Do the following to create a program that simulates how websites ensure that everyone has a unique username.\n",
    "\n",
    "Make a list of five or more usernames called current_users.\n",
    "Make another list of five usernames called new_users. Make sure one or two of the new usernames are also in the current_users list.\n",
    "Loop through the new_users list to see if each new username has already been used. If it has, print a message that the person will need to enter a new username. If a username has not been used, print a message saying that the username is available.\n",
    "Make sure your comparison is case insensitive. If 'John' has been used, 'JOHN' should not be accepted. (To do this, you’ll need to make a copy of current_users containing the lowercase versions of all existing users.)"
   ]
  },
  {
   "cell_type": "code",
   "execution_count": 46,
   "id": "909b998c",
   "metadata": {},
   "outputs": [
    {
     "name": "stdout",
     "output_type": "stream",
     "text": [
      "user5 is available.\n",
      "user6 is available.\n",
      "user7 is available.\n",
      "user8 is available.\n",
      "USER1 is not available, please choose a new username.\n"
     ]
    }
   ],
   "source": [
    "current_users = [\"admin\", \"user1\", \"user2\", \"user3\", \"user4\"]\n",
    "\n",
    "new_users = [\"user5\", \"user6\", \"user7\", \"user8\", \"USER1\"]\n",
    "\n",
    "for username in new_users:\n",
    "    if username.lower() in current_users:\n",
    "        print(f\"{username} is not available, please choose a new username.\")\n",
    "    else:\n",
    "        print(f\"{username} is available.\")"
   ]
  }
 ],
 "metadata": {
  "kernelspec": {
   "display_name": "Python 3 (ipykernel)",
   "language": "python",
   "name": "python3"
  },
  "language_info": {
   "codemirror_mode": {
    "name": "ipython",
    "version": 3
   },
   "file_extension": ".py",
   "mimetype": "text/x-python",
   "name": "python",
   "nbconvert_exporter": "python",
   "pygments_lexer": "ipython3",
   "version": "3.9.12"
  }
 },
 "nbformat": 4,
 "nbformat_minor": 5
}
