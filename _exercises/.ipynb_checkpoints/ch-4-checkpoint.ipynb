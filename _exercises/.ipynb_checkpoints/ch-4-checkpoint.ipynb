{
 "cells": [
  {
   "cell_type": "markdown",
   "id": "d5f61c62",
   "metadata": {},
   "source": [
    "# Exercises Ch. 4"
   ]
  },
  {
   "cell_type": "markdown",
   "id": "fd1d9208",
   "metadata": {},
   "source": [
    "## 4-1. Pizzas\n",
    "Think of at least three kinds of your favorite pizza. Store these pizza names in a list, and then use a for loop to print the name of each pizza.\n",
    "\n",
    "Modify your for loop to print a sentence using the name of the pizza instead of printing just the name of the pizza. For each pizza you should have one line of output containing a simple statement like I like pepperoni pizza.\n",
    "Add a line at the end of your program, outside the for loop, that states how much you like pizza. The output should consist of three or more lines about the kinds of pizza you like and then an additional sentence, such as I really love pizza!"
   ]
  },
  {
   "cell_type": "code",
   "execution_count": 5,
   "id": "72f0ee6e",
   "metadata": {},
   "outputs": [
    {
     "name": "stdout",
     "output_type": "stream",
     "text": [
      "cheese\n",
      "onion\n",
      "chicken\n",
      "I love cheese pizza!\n",
      "I love onion pizza!\n",
      "I love chicken pizza!\n",
      "I love cheese pizza!\n",
      "I love onion pizza!\n",
      "I love chicken pizza!\n",
      "I really like pizza!\n"
     ]
    }
   ],
   "source": [
    "pizzas = ['cheese', 'onion', 'chicken']\n",
    "for pizza in pizzas:\n",
    "    print(pizza)\n",
    "\n",
    "for pizza in pizzas:\n",
    "    print(f\"I love {pizza} pizza!\")\n",
    "    \n",
    "for pizza in pizzas:\n",
    "    print(f\"I love {pizza} pizza!\")\n",
    "print(\"I really like pizza!\")"
   ]
  },
  {
   "cell_type": "markdown",
   "id": "ff03e2d5",
   "metadata": {},
   "source": [
    "## 4-2. Animals\n",
    "Think of at least three different animals that have a common characteristic. Store the names of these animals in a list, and then use a for loop to print out the name of each animal.\n",
    "\n",
    "Modify your program to print a statement about each animal, such as A dog would make a great pet.\n",
    "Add a line at the end of your program stating what these animals have in common. You could print a sentence such as Any of these animals would make a great pet!"
   ]
  },
  {
   "cell_type": "code",
   "execution_count": 10,
   "id": "05bf0f22",
   "metadata": {},
   "outputs": [
    {
     "name": "stdout",
     "output_type": "stream",
     "text": [
      "dog\n",
      "cat\n",
      "snake\n",
      "A dog would make a good pet.\n",
      "A cat would make a good pet.\n",
      "A snake would make a good pet.\n",
      "A dog would make a good pet.\n",
      "A cat would make a good pet.\n",
      "A snake would make a good pet.\n",
      "All these animals would make great pets!\n"
     ]
    }
   ],
   "source": [
    "animals = ['dog', 'cat', 'snake']\n",
    "for animal in animals:\n",
    "    print(animal)\n",
    "    \n",
    "for animal in animals:\n",
    "    print(f\"A {animal} would make a good pet.\")\n",
    "    \n",
    "for animal in animals:\n",
    "    print(f\"A {animal} would make a good pet.\")\n",
    "print(\"All these animals would make great pets!\")"
   ]
  },
  {
   "cell_type": "markdown",
   "id": "f359fd35",
   "metadata": {},
   "source": [
    "## 4-3. Counting to Twenty\n",
    "Use a for loop to print the numbers from 1 to 20, inclusive."
   ]
  },
  {
   "cell_type": "code",
   "execution_count": 11,
   "id": "d093d8d5",
   "metadata": {},
   "outputs": [
    {
     "name": "stdout",
     "output_type": "stream",
     "text": [
      "1\n",
      "2\n",
      "3\n",
      "4\n",
      "5\n",
      "6\n",
      "7\n",
      "8\n",
      "9\n",
      "10\n",
      "11\n",
      "12\n",
      "13\n",
      "14\n",
      "15\n",
      "16\n",
      "17\n",
      "18\n",
      "19\n",
      "20\n"
     ]
    }
   ],
   "source": [
    "for num in range(1,21):\n",
    "    print(num)"
   ]
  },
  {
   "cell_type": "markdown",
   "id": "e58a9222",
   "metadata": {},
   "source": [
    "## 4-6. Odd Numbers\n",
    "Use the third argument of the range() function to make a list of the odd numbers from 1 to 20. Use a for loop to print each number."
   ]
  },
  {
   "cell_type": "code",
   "execution_count": 12,
   "id": "2fd569c6",
   "metadata": {},
   "outputs": [
    {
     "name": "stdout",
     "output_type": "stream",
     "text": [
      "1\n",
      "3\n",
      "5\n",
      "7\n",
      "9\n",
      "11\n",
      "13\n",
      "15\n",
      "17\n",
      "19\n"
     ]
    }
   ],
   "source": [
    "for num in range(1,21,2):\n",
    "    print(num)"
   ]
  },
  {
   "cell_type": "markdown",
   "id": "e63374f5",
   "metadata": {},
   "source": [
    "## 4-10. Slices\n",
    "Using one of the programs you wrote in this chapter, add several lines to the end of the program that do the following:\n",
    "\n",
    "Print the message The first three items in the list are:. Then use a slice to print the first three items from that program’s list.\n",
    "Print the message Three items from the middle of the list are:. Use a slice to print three items from the middle of the list.\n",
    "Print the message The last three items in the list are:. Use a slice to print the last three items in the list."
   ]
  },
  {
   "cell_type": "code",
   "execution_count": 16,
   "id": "8eb962a6",
   "metadata": {},
   "outputs": [
    {
     "name": "stdout",
     "output_type": "stream",
     "text": [
      "The first three pizzas in this list are:\n",
      "\tcheese\n",
      "\tonion\n",
      "\tchicken\n",
      "Three pizzas in the middle of the list are:\n",
      "\tno cheese\n",
      "\twhite sauce\n",
      "\tmeatball\n",
      "The last three pizzas in this list are:\n",
      "\tbacon\n",
      "\tpepper\n",
      "\thigh rise\n"
     ]
    }
   ],
   "source": [
    "pizzas = ['cheese', 'onion', 'chicken', 'no cheese', 'white sauce', 'meatball', 'bacon', 'pepper', 'high rise']\n",
    "print(\"The first three pizzas in this list are:\")\n",
    "for pizza in pizzas[0:3]:\n",
    "    print(\"\\t\" + pizza)\n",
    "\n",
    "print(\"Three pizzas in the middle of the list are:\")\n",
    "for pizza in pizzas[3:6]:\n",
    "    print(\"\\t\" + pizza)\n",
    "    \n",
    "print(\"The last three pizzas in this list are:\")\n",
    "for pizza in pizzas[6:9]:\n",
    "    print(\"\\t\" + pizza)"
   ]
  },
  {
   "cell_type": "markdown",
   "id": "600544eb",
   "metadata": {},
   "source": [
    "## 4-11. My PIzzas, Your Pizzas\n",
    "Start with your program from Exercise 4-1 (page 56). Make a copy of the list of pizzas, and call it friend_pizzas. Then, do the following:\n",
    "\n",
    "Add a new pizza to the original list.\n",
    "Add a different pizza to the list friend_pizzas.\n",
    "Prove that you have two separate lists. Print the message My favorite pizzas are:, and then use a for loop to print the first list. Print the message My friend’s favorite pizzas are:, and then use a for loop to print the second list. Make sure each new pizza is stored in the appropriate list."
   ]
  },
  {
   "cell_type": "code",
   "execution_count": 20,
   "id": "1199e8f8",
   "metadata": {},
   "outputs": [
    {
     "name": "stdout",
     "output_type": "stream",
     "text": [
      "cheese\n",
      "onion\n",
      "chicken\n",
      "My favorite pizzas are:\n",
      "\tcheese\n",
      "\tonion\n",
      "\tchicken\n",
      "\tno cheese\n",
      "My friend's favorite pizzas are:\n",
      "\tcheese\n",
      "\tonion\n",
      "\tchicken\n",
      "\twhite sauce\n"
     ]
    }
   ],
   "source": [
    "pizzas = ['cheese', 'onion', 'chicken']\n",
    "for pizza in pizzas:\n",
    "    print(pizza)\n",
    "\n",
    "friend_pizzas = pizzas[:]\n",
    "\n",
    "pizzas.append(\"no cheese\")\n",
    "\n",
    "friend_pizzas.append(\"white sauce\")\n",
    "\n",
    "print(\"My favorite pizzas are:\")\n",
    "for pizza in pizzas:\n",
    "    print(\"\\t\" + pizza)\n",
    "    \n",
    "print(\"My friend's favorite pizzas are:\")\n",
    "for pizza in friend_pizzas:\n",
    "    print(\"\\t\" + pizza)"
   ]
  }
 ],
 "metadata": {
  "kernelspec": {
   "display_name": "Python 3 (ipykernel)",
   "language": "python",
   "name": "python3"
  },
  "language_info": {
   "codemirror_mode": {
    "name": "ipython",
    "version": 3
   },
   "file_extension": ".py",
   "mimetype": "text/x-python",
   "name": "python",
   "nbconvert_exporter": "python",
   "pygments_lexer": "ipython3",
   "version": "3.9.12"
  }
 },
 "nbformat": 4,
 "nbformat_minor": 5
}
